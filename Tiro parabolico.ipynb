{
 "cells": [
  {
   "cell_type": "markdown",
   "metadata": {},
   "source": [
    "# Tiro Parabolico\n",
    "\n",
    "Se modela el lanzamiento palabolico de una particula hacia una caja."
   ]
  },
  {
   "cell_type": "code",
   "execution_count": 1,
   "metadata": {},
   "outputs": [],
   "source": [
    "import numpy as np\n",
    "import matplotlib.pylab as plt"
   ]
  },
  {
   "cell_type": "markdown",
   "metadata": {},
   "source": [
    "## Runge-kutta"
   ]
  },
  {
   "cell_type": "code",
   "execution_count": 2,
   "metadata": {},
   "outputs": [],
   "source": [
    "def rk4(f,xo,h, x0=5.7):\n",
    "    h2=0.5*h\n",
    "    \n",
    "    conteo=0\n",
    "    x=np.array([xo])\n",
    "    while x[-1][1]>0 or conteo ==0:\n",
    "        beta=np.random.uniform(0,0.05)\n",
    "        k1= h*f(x[-1], beta)\n",
    "        k2= h*f(x[-1]+0.5*k1, beta)\n",
    "        k3= h*f(x[-1]+0.5*k2,beta)\n",
    "        k4= h*f(x[-1]+k3,beta)\n",
    "        X= x[-1]+(k1+2*(k2+k3)+k4)/6\n",
    "        x=np.vstack((x, X))\n",
    "        conteo +=1\n",
    "        \n",
    "        \"\"\"Un condicional (if) que evalue la posicion de la ultima particula \n",
    "        x[-1] y observe si entro en la caja o golpeo en la pared.\"\"\"\n",
    "        if x[-1][0]>=x0:\n",
    "            break\n",
    "        \n",
    "    if x[-1][1]<0:\n",
    "        x[-1][0]=x[-1][0]-(x[-1][1]*(x[-2][0]-x[-1][0]))/(x[-2][1]-x[-1][1])\n",
    "        x[-1][1]=0\n",
    "        \n",
    "    return x"
   ]
  },
  {
   "cell_type": "code",
   "execution_count": 3,
   "metadata": {},
   "outputs": [],
   "source": [
    "def lanzamiento(Integrador, Masa, theta, Velocidad, Lambda,h, Grafica=False):\n",
    "    m=Masa; lam=Lambda; v= Velocidad\n",
    "    \n",
    "    # condiciones iniciales\n",
    "    g=9.8\n",
    "    #v=12; theta=np.pi/4; m=19; lam=0.9; g=9.8; h= 1e-2\n",
    "    xo=np.array([0,0]); vo=np.array([v*np.cos(theta), v*np.sin(theta)])\n",
    "    #vo, xo  estos son los valores que entran al while de primer  lugar\n",
    "    \n",
    "    nu=np.array([0,0,vo[0],vo[1]])\n",
    "    def dYdt(y,beta):\n",
    "        #m=1;lam=0.9;g=9.8\n",
    "        Vel= np.sqrt((y[2])**2 + (y[3])**2)\n",
    "        return np.array([ y[2], y[-1], -(1/m)*(lam*y[2] + beta*Vel*y[2]), -g-(1/m)*(lam*y[-1] + beta*Vel*y[-1])])\n",
    "    \n",
    "    #dYdt(t,beta)\n",
    "    Y=rk4(dYdt, nu, h)\n",
    "    \n",
    "    #Caja\n",
    "    n=10; x0=5.7; xf=6.4; altura=xf-x0\n",
    "    y=np.ones(n); x=np.linspace(x0,xf,n)#; y0=np.zeros(n) #Paralelas a x\n",
    "    x1=np.ones(n); y1=np.linspace(0, altura,n); x2=np.ones(n) #Pralelas a Y\n",
    "    \n",
    "    \n",
    "    if Grafica != False:\n",
    "        plt.plot(Y[:,0], Y[:,1],\".\",  x,altura*y,\"b\", x,y*0,\"b\", x0*x1,y1, \"b\", xf*x2,y1, \"b\"), plt.grid();plt.show()\n",
    "        plt.plot(Y[:,0], Y[:,1],\".\",  x,altura*y,\"b\", x,y*0,\"r.\", x0*x1,y1, \"r.\", xf*x2,y1, \"b\"), plt.xlim(5.5,6.4), plt.ylim(-0.0015,0.8), plt.legend((\"Posicion X vs Y\",\"Posicion en Y\")), plt.grid(),plt.xlabel(\"X\")\n",
    "        plt.title(\"Lanzamiento de una partícula\"),plt.ylabel(\"Y (t)\");plt.show()\n",
    "        #plt.plot(Y[:,0], Y[:,1],\".\"), plt.xlim(6,6.5), plt.ylim(-0.1,0.5),plt.grid() plt.xlim(-0.1,1.5), plt.ylim(-0.1,1.2),\n",
    "    \n",
    "    return Y, \"Distancia MAX:\",Y[:,0].max(), \"Altura Maxima:\", Y[:,1].max()"
   ]
  },
  {
   "cell_type": "code",
   "execution_count": 9,
   "metadata": {},
   "outputs": [
    {
     "data": {
      "image/png": "[encoded data removed]",
      "text/plain": [
       "<Figure size 432x288 with 1 Axes>"
      ]
     },
     "metadata": {},
     "output_type": "display_data"
    },
    {
     "data": {
      "image/png": "[encoded data removed]",
      "text/plain": [
       "<Figure size 432x288 with 1 Axes>"
      ]
     },
     "metadata": {},
     "output_type": "display_data"
    },
    {
     "data": {
      "text/plain": [
       "(array([[  0.        ,   0.        , 254.55844123, 254.55844123],\n",
       "        [  2.34948378,   2.34901859, 217.2752601 , 217.18444409],\n",
       "        [  4.39627376,   4.3944818 , 193.01089933, 192.83770448],\n",
       "        [  6.31735265,   6.31334838, 191.207819  , 190.93870055]]),\n",
       " 'Distancia MAX:',\n",
       " 6.317352649187427,\n",
       " 'Altura Maxima:',\n",
       " 6.31334837786632)"
      ]
     },
     "execution_count": 9,
     "metadata": {},
     "output_type": "execute_result"
    }
   ],
   "source": [
    "#lanzamiento(rk4, 1, np.pi/6, 12, 0.9, 1e-2, 1)\n",
    "lanzamiento(rk4, 1, np.pi/4, 360, 0.9, 1e-2, 1)"
   ]
  },
  {
   "cell_type": "code",
   "execution_count": 5,
   "metadata": {},
   "outputs": [],
   "source": [
    "def histograma(lanzamiento, n, Numero_Particiones, Grafica=False):\n",
    "    e=[]; ee=[]\n",
    "    for i in range (n):\n",
    "        Y=lanzamiento(rk4, 1, np.pi/4, 12, 0.9, 1e-2, 0)[0][:,0]  #X\n",
    "        YY=lanzamiento(rk4, 1, np.pi/4, 12, 0.9, 1e-2, 0)[0][:,1] #Y\n",
    "        e= np.hstack(( e,Y.max() ))\n",
    "        ee=np.hstack((ee, YY.max()))\n",
    "        \n",
    "    if Grafica != False:\n",
    "        plt.hist(e,Numero_Particiones);  plt.show() # particiones el segundo \"45\"\n",
    "        \n",
    "    return  \"Desviación estandar en X:\", e.std(), \"Desviación estandar en Y:\", ee.std()\n",
    "#e, ee"
   ]
  },
  {
   "cell_type": "code",
   "execution_count": 6,
   "metadata": {},
   "outputs": [
    {
     "data": {
      "image/png": "[encoded data removed]",
      "text/plain": [
       "<Figure size 432x288 with 1 Axes>"
      ]
     },
     "metadata": {},
     "output_type": "display_data"
    },
    {
     "data": {
      "text/plain": [
       "('Desviación estandar en X:',\n",
       " 0.05015555762205279,\n",
       " 'Desviación estandar en Y:',\n",
       " 0.018171836132293576)"
      ]
     },
     "execution_count": 6,
     "metadata": {},
     "output_type": "execute_result"
    }
   ],
   "source": [
    "histograma(lanzamiento, 5000, 45, 1) # 10000, 9.57 minutos"
   ]
  },
  {
   "cell_type": "code",
   "execution_count": 7,
   "metadata": {
    "collapsed": true
   },
   "outputs": [
    {
     "ename": "NameError",
     "evalue": "name 't' is not defined",
     "output_type": "error",
     "traceback": [
      "\u001b[1;31m---------------------------------------------------------------------------\u001b[0m",
      "\u001b[1;31mNameError\u001b[0m                                 Traceback (most recent call last)",
      "\u001b[1;32m<ipython-input-7-bedf6b3e3771>\u001b[0m in \u001b[0;36m<module>\u001b[1;34m()\u001b[0m\n\u001b[0;32m      4\u001b[0m \u001b[1;33m\u001b[0m\u001b[0m\n\u001b[0;32m      5\u001b[0m \u001b[0mtop\u001b[0m\u001b[1;33m=\u001b[0m\u001b[1;33m[\u001b[0m\u001b[1;36m0\u001b[0m\u001b[1;33m,\u001b[0m\u001b[1;33m]\u001b[0m \u001b[1;33m;\u001b[0m  \u001b[0mdistancia\u001b[0m\u001b[1;33m=\u001b[0m\u001b[1;33m[\u001b[0m\u001b[1;36m0\u001b[0m\u001b[1;33m,\u001b[0m\u001b[1;33m]\u001b[0m\u001b[1;33m\u001b[0m\u001b[0m\n\u001b[1;32m----> 6\u001b[1;33m \u001b[1;32mfor\u001b[0m \u001b[0mi\u001b[0m \u001b[1;32min\u001b[0m \u001b[0mrange\u001b[0m\u001b[1;33m(\u001b[0m\u001b[1;36m1\u001b[0m\u001b[1;33m,\u001b[0m\u001b[0mlen\u001b[0m\u001b[1;33m(\u001b[0m\u001b[0mt\u001b[0m\u001b[1;33m)\u001b[0m\u001b[1;33m)\u001b[0m\u001b[1;33m:\u001b[0m\u001b[1;33m\u001b[0m\u001b[0m\n\u001b[0m\u001b[0;32m      7\u001b[0m    \u001b[1;32mif\u001b[0m \u001b[0mY\u001b[0m\u001b[1;33m[\u001b[0m\u001b[1;33m:\u001b[0m\u001b[1;33m,\u001b[0m\u001b[1;36m1\u001b[0m\u001b[1;33m]\u001b[0m\u001b[1;33m[\u001b[0m\u001b[0mi\u001b[0m\u001b[1;33m]\u001b[0m\u001b[1;33m*\u001b[0m\u001b[0mY\u001b[0m\u001b[1;33m[\u001b[0m\u001b[1;33m:\u001b[0m\u001b[1;33m,\u001b[0m\u001b[1;36m1\u001b[0m\u001b[1;33m]\u001b[0m\u001b[1;33m[\u001b[0m\u001b[0mi\u001b[0m\u001b[1;33m-\u001b[0m\u001b[1;36m1\u001b[0m\u001b[1;33m]\u001b[0m \u001b[1;33m>=\u001b[0m \u001b[1;36m0\u001b[0m\u001b[1;33m:\u001b[0m\u001b[1;33m\u001b[0m\u001b[0m\n\u001b[0;32m      8\u001b[0m        \u001b[0mposy\u001b[0m\u001b[1;33m=\u001b[0m \u001b[0mY\u001b[0m\u001b[1;33m[\u001b[0m\u001b[1;33m:\u001b[0m\u001b[1;33m,\u001b[0m\u001b[1;36m1\u001b[0m\u001b[1;33m]\u001b[0m\u001b[1;33m[\u001b[0m\u001b[0mi\u001b[0m\u001b[1;33m]\u001b[0m \u001b[1;33m;\u001b[0m \u001b[0mtop\u001b[0m\u001b[1;33m=\u001b[0m\u001b[0mnp\u001b[0m\u001b[1;33m.\u001b[0m\u001b[0mhstack\u001b[0m\u001b[1;33m(\u001b[0m\u001b[1;33m(\u001b[0m\u001b[0mtop\u001b[0m\u001b[1;33m,\u001b[0m \u001b[0mposy\u001b[0m\u001b[1;33m)\u001b[0m\u001b[1;33m)\u001b[0m\u001b[1;33m\u001b[0m\u001b[0m\n",
      "\u001b[1;31mNameError\u001b[0m: name 't' is not defined"
     ]
    }
   ],
   "source": [
    " \"\"\"Se está condicionando al sistema a que pegue en el piso, para que la partícula\n",
    "no siga de largo. Donde \"top\"=altura y \"distancia\"=recorrido en x, Y[:,1]=posicion en y\n",
    "e Y[:,0]=posisicion en x probenientes del runge-kutta.\"\"\"\n",
    "\n",
    "top=[0,] ;  distancia=[0,]\n",
    "for i in range(1,len(t)):\n",
    "    if Y[:,1][i]*Y[:,1][i-1] >= 0:\n",
    "        posy= Y[:,1][i] ; top=np.hstack((top, posy))\n",
    "        posx= Y[:,0][i] ; distancia=np.hstack((distancia, posx))\n",
    "    else: \n",
    "        break\n",
    "        \n",
    "len(top), len(distancia)"
   ]
  },
  {
   "cell_type": "code",
   "execution_count": 67,
   "metadata": {},
   "outputs": [
    {
     "data": {
      "text/plain": [
       "array([ 0,  9,  0,  0, 10,  1,  1])"
      ]
     },
     "execution_count": 67,
     "metadata": {},
     "output_type": "execute_result"
    }
   ],
   "source": [
    "s=np.array([0,9,0,0])\n",
    "r=np.array([0])\n",
    "while s[-3] < 10 :\n",
    "    l=s[-3]+1\n",
    "    s=np.hstack((s,l))\n",
    "s"
   ]
  },
  {
   "cell_type": "code",
   "execution_count": 128,
   "metadata": {},
   "outputs": [
    {
     "data": {
      "text/plain": [
       "0.05"
      ]
     },
     "execution_count": 128,
     "metadata": {},
     "output_type": "execute_result"
    }
   ],
   "source": [
    "parametros={\"lam\": 0.9,\"bmax\": 0.05,\"bmin\": 0.,\"theta\": np.pi/4,\"dt\": 1.e-2,\"vel\": 12.,\"mass\":1.}\n",
    "\n",
    "parametros[\"bmax\"]"
   ]
  },
  {
   "cell_type": "code",
   "execution_count": 232,
   "metadata": {},
   "outputs": [
    {
     "data": {
      "text/plain": [
       "(1, 0, 2)"
      ]
     },
     "execution_count": 232,
     "metadata": {},
     "output_type": "execute_result"
    }
   ],
   "source": [
    "aa.max(), aa.min(), aa.argmax()#da la posicion del maximo"
   ]
  },
  {
   "cell_type": "code",
   "execution_count": 233,
   "metadata": {},
   "outputs": [],
   "source": [
    "aa.strides?"
   ]
  },
  {
   "cell_type": "code",
   "execution_count": 5,
   "metadata": {},
   "outputs": [],
   "source": [
    "\"\"\"Función que me grafica theta vs distancia maxima, es decir theta varia\n",
    "de cero a pi/2 obteniendo la distancia maxima para cada theta.\"\"\"\n",
    "def Angulo_Distancia(theta_0, theta_f, n, Grafica=False):\n",
    "    distancia=[]; angulos=np.linspace(theta_0, theta_f, n)\n",
    "    for i in range(len(angulos)):\n",
    "        angu=lanzamiento(rk4, 1, angulos[i], 12, 0.9, 1e-2, 0)[2]  #Nos genera la distancia maxima para cada theta\n",
    "        distancia= np.hstack((distancia, angu)) \n",
    "        \n",
    "    if Grafica != False:\n",
    "        plt.plot(angulos, distancia), plt.grid(); plt.show()\n",
    "    \n",
    "    return \"Distancia MAX::\",distancia.max(), \"Angulo:\", angulos[distancia.argmax()]*(90)/(np.pi/2)"
   ]
  },
  {
   "cell_type": "code",
   "execution_count": 6,
   "metadata": {},
   "outputs": [
    {
     "data": {
      "image/png": "[encoded data removed]",
      "text/plain": [
       "<Figure size 432x288 with 1 Axes>"
      ]
     },
     "metadata": {},
     "output_type": "display_data"
    },
    {
     "data": {
      "text/plain": [
       "('Distancia MAX::', 6.518830040308751, 'Angulo:', 32.0)"
      ]
     },
     "execution_count": 6,
     "metadata": {},
     "output_type": "execute_result"
    }
   ],
   "source": [
    "Angulo_Distancia(0, np.pi/2, 91, 1)"
   ]
  },
  {
   "cell_type": "code",
   "execution_count": 7,
   "metadata": {},
   "outputs": [],
   "source": [
    "\"\"\"se realiza n lanzamientos para distintos angulos, obteniendo el promedio\n",
    "de las distancias mamximams para cada angulo.\"\"\"\n",
    "def varios_tiros(n, theta):\n",
    "    repeticion=[]\n",
    "    for i in range(n):\n",
    "        z=lanzamiento(rk4, 1, theta, 12, 0.9, 1e-2, 0)[0][:,0] #Genera el vector \"X\" para cada lanzamiento\n",
    "        repeticion=np.hstack((repeticion, z.max()))  #Se obtiene un arreglo de las distancias maximas\n",
    "    return repeticion\n",
    "\n",
    "\"\"\"Funcion que varia los angulos para cada n lanzammientos\"\"\"\n",
    "def Promedio_distanciaMAX(theta_0, theta_f, paso_angulo, numero_de_lanzamiento, Grafica=False):\n",
    "    distancia=[]; angulos=np.linspace(theta_0, theta_f, paso_angulo)\n",
    "    for i in range(len(angulos)):\n",
    "        angu=varios_tiros(numero_de_lanzamiento, angulos[i]).mean()  #Se obtiene el promedio de las distancias maximas para cada ángulo.\n",
    "        distancia= np.hstack((distancia, angu))  #Es un arreglo del promedio de las distancias maximas para cada theta\n",
    "        \n",
    "    if Grafica!=False:\n",
    "        plt.plot(angulos, distancia), plt.grid(); plt.show()\n",
    "        \n",
    "    return \"Distancia Max:\",distancia.max(), \"Ángulo Max:\",angulos[distancia.argmax()]*(90)/(np.pi/2)  "
   ]
  },
  {
   "cell_type": "code",
   "execution_count": 8,
   "metadata": {},
   "outputs": [
    {
     "data": {
      "text/plain": [
       "('Distancia Max:', 6.440596459391143, 'Ángulo Max:', 34.0)"
      ]
     },
     "execution_count": 8,
     "metadata": {},
     "output_type": "execute_result"
    }
   ],
   "source": [
    "Promedio_distanciaMAX(np.pi/12, np.pi/3, 46, 30, 0)\n",
    "#varios_tiros(10, np.pi/9).mean()"
   ]
  },
  {
   "cell_type": "code",
   "execution_count": 9,
   "metadata": {},
   "outputs": [],
   "source": [
    "\"\"\"Dimensiones de la caja LxL \"\"\"\n",
    "def caja(x0, xf, n, Grafica=False):   \n",
    "    #n=10; x0=5.7; xf=6.4; \n",
    "    altura=xf-x0\n",
    "    y=np.ones(n); x=np.linspace(x0,xf,n)#; y0=np.zeros(n) #Paralelas a x\n",
    "    x1=np.ones(n); y1=np.linspace(0, altura,n); x2=np.ones(n) #Pralelas a Y\n",
    "    if Grafica!=False:\n",
    "        plt.plot(x,altura*y,\"b\", x,y*0,\"b\", x0*x1,y1, \"b\", xf*x2,y1, \"b\"),plt.grid(); plt.show()\n",
    "    return n"
   ]
  },
  {
   "cell_type": "code",
   "execution_count": 10,
   "metadata": {},
   "outputs": [
    {
     "data": {
      "image/png": "[encoded data removed]",
      "text/plain": [
       "<Figure size 432x288 with 1 Axes>"
      ]
     },
     "metadata": {},
     "output_type": "display_data"
    },
    {
     "data": {
      "text/plain": [
       "2"
      ]
     },
     "execution_count": 10,
     "metadata": {},
     "output_type": "execute_result"
    }
   ],
   "source": [
    "caja(5.9,6.30, 2, 1)"
   ]
  },
  {
   "cell_type": "code",
   "execution_count": 11,
   "metadata": {
    "collapsed": true
   },
   "outputs": [
    {
     "data": {
      "text/plain": [
       "[<matplotlib.lines.Line2D at 0x7edfc50>,\n",
       " <matplotlib.lines.Line2D at 0x7edfe10>]"
      ]
     },
     "execution_count": 11,
     "metadata": {},
     "output_type": "execute_result"
    },
    {
     "data": {
      "image/png": "[encoded data removed]",
      "text/plain": [
       "<Figure size 432x288 with 1 Axes>"
      ]
     },
     "metadata": {},
     "output_type": "display_data"
    }
   ],
   "source": [
    "x1=np.array([0,0]); x2=np.array([3,0]); y1=np.array([0,4]); y2=np.array([0,3])\n",
    "x=[0,0]; x0=[3,4]\n",
    "plt.plot(x[0],x[1], x[0],x0[0])"
   ]
  },
  {
   "cell_type": "code",
   "execution_count": null,
   "metadata": {},
   "outputs": [],
   "source": []
  }
 ],
 "metadata": {
  "kernelspec": {
   "display_name": "Python 3",
   "language": "python",
   "name": "python3"
  },
  "language_info": {
   "codemirror_mode": {
    "name": "ipython",
    "version": 3
   },
   "file_extension": ".py",
   "mimetype": "text/x-python",
   "name": "python",
   "nbconvert_exporter": "python",
   "pygments_lexer": "ipython3",
   "version": "3.6.9"
  }
 },
 "nbformat": 4,
 "nbformat_minor": 2
}
