{
 "cells": [
  {
   "cell_type": "markdown",
   "id": "8b6bce9f",
   "metadata": {},
   "source": [
    "# Regla del trapecio compuesta\n",
    "\n",
    "\n",
    "$$\n",
    "\\int _{a}^{b} f(x)dx \\approx \\frac{b-a}{n}\\left[ \\frac{f(a)+f(b)}{2} + \\sum _{k=1}^{n-1}f\\left( a+k\\frac{b-a}{n}\\right)\\right]\n",
    "$$"
   ]
  },
  {
   "cell_type": "code",
   "execution_count": 1,
   "id": "1ee16500",
   "metadata": {},
   "outputs": [],
   "source": [
    "import numpy as np"
   ]
  },
  {
   "cell_type": "code",
   "execution_count": 48,
   "id": "e68fff52",
   "metadata": {},
   "outputs": [],
   "source": [
    "#def f(x):\n",
    "#    return x**2"
   ]
  },
  {
   "cell_type": "code",
   "execution_count": 58,
   "id": "fcbac7e4",
   "metadata": {},
   "outputs": [],
   "source": [
    "#otra forma de definir una funcion\n",
    "f = lambda x: 3*x\n",
    "a, b = 0, 1"
   ]
  },
  {
   "cell_type": "code",
   "execution_count": 173,
   "id": "2b4f7f7c",
   "metadata": {},
   "outputs": [],
   "source": [
    "def trapecio(f, a, b, n):\n",
    "    h = (b - a)/n\n",
    "    g = (f(a) + f(b))/2\n",
    "    \n",
    "    s = 0\n",
    "    for i in range(1,n):\n",
    "        c = a + i*h\n",
    "        s = s + f(c)\n",
    "        \n",
    "    I = h*(g + s)\n",
    "    \n",
    "    #condicional estetico jajajaja XD\n",
    "  #  if (I<1e-5):\n",
    "   #     I = 0.0\n",
    "        \n",
    "    return I"
   ]
  },
  {
   "cell_type": "code",
   "execution_count": 52,
   "id": "0de83112",
   "metadata": {},
   "outputs": [
    {
     "data": {
      "text/plain": [
       "1.4999999999999998"
      ]
     },
     "execution_count": 52,
     "metadata": {},
     "output_type": "execute_result"
    }
   ],
   "source": [
    "trapecio(f, a, b, 100)"
   ]
  },
  {
   "cell_type": "markdown",
   "id": "7c04ed6f",
   "metadata": {},
   "source": [
    "# Regla de Simpson\n",
    "\n",
    "$$\n",
    "\\int _{a}^{b} f(x)dx \\approx \\frac{b-a}{6}\\left[ f(a) + 4f\\left( \\frac{a+b}{2}\\right) + f(b)\\right]\n",
    "$$"
   ]
  },
  {
   "cell_type": "code",
   "execution_count": 53,
   "id": "5e72c3d1",
   "metadata": {},
   "outputs": [],
   "source": [
    "#g = lambda x: np.cos(x) + 1\n",
    "\n",
    "def simpson(f, v_inicial, v_final):\n",
    "    a = v_inicial; b = v_final\n",
    "    \n",
    "    return ((b-a)/6)*(f(a) + 4*f((a+b)/2) + f(b))"
   ]
  },
  {
   "cell_type": "code",
   "execution_count": 54,
   "id": "50937105",
   "metadata": {},
   "outputs": [
    {
     "data": {
      "text/plain": [
       "1.5"
      ]
     },
     "execution_count": 54,
     "metadata": {},
     "output_type": "execute_result"
    }
   ],
   "source": [
    "simpson(f, a, b)"
   ]
  },
  {
   "cell_type": "markdown",
   "id": "04fc0b26",
   "metadata": {},
   "source": [
    "# Regla de Simpson compuesta\n",
    "\n",
    "$$\n",
    "\\int _{a}^{b} f(x)dx \\approx \\frac{h}{3}\\left[ f(x_{0}) + 2\\sum _{j=1}^{\\frac{n}{2}-1}f(x_{2j}) + 4\\sum _{j=1}^{\\frac{n}{2}}f(x_{2j-1}) + f(x_{j+1}) \\right]\n",
    "$$"
   ]
  },
  {
   "cell_type": "code",
   "execution_count": 2,
   "id": "9c423f87",
   "metadata": {},
   "outputs": [],
   "source": [
    "def simpsonC(funcion, v_inicial, v_final, intervalos):\n",
    "    f = funcion; a = v_inicial; b = v_final; n = intervalos\n",
    "    \n",
    "    h = (b-a)/n\n",
    "    x0 = a; xn = a + n*h\n",
    "    \n",
    "    par = 0\n",
    "    for i in range(1, int(n/2)):\n",
    "        x2i = a + 2*i*h\n",
    "        par = par + f(x2i)\n",
    "        \n",
    "    impar = 0\n",
    "    for i in range(1, int(n/2) +1):\n",
    "        x2i_1 = a + (2*i - 1)*h\n",
    "        impar = impar + f(x2i_1)\n",
    "        \n",
    "    return (h/3)*(f(x0) + 2*par + 4*impar + f(xn))"
   ]
  },
  {
   "cell_type": "code",
   "execution_count": 18,
   "id": "a4ce9bfd",
   "metadata": {},
   "outputs": [
    {
     "data": {
      "text/plain": [
       "array([-2. , -1.5,  0. ,  2.5,  6. , 10.5, 16. , 22.5, 30. , 38.5, 48. ])"
      ]
     },
     "execution_count": 18,
     "metadata": {},
     "output_type": "execute_result"
    }
   ],
   "source": [
    "b = np.linspace(0,10,11); a = 2\n",
    "f = lambda x: x\n",
    "simpsonC(f, a, b, 10)"
   ]
  },
  {
   "cell_type": "markdown",
   "id": "6f14f233",
   "metadata": {},
   "source": [
    "# Regla de Simpson compuesta 3/8\n",
    "\n",
    "$$\n",
    "\\int _{a}^{b} f(x)dx \\approx \\frac{3h}{8}\\left[ f(x_{0}) + 3\\sum _{i=0}^{\\frac{n}{3}-1}f(x_{3i+1}) + 3\\sum _{i=0}^{\\frac{n}{3}-1}f(x_{3i+2}) +2\\sum _{i=0}^{\\frac{n}{3}-2}f(x_{3i+3}) +f(x_{n}) \\right]\n",
    "$$"
   ]
  },
  {
   "cell_type": "code",
   "execution_count": 176,
   "id": "fa6a975a",
   "metadata": {},
   "outputs": [],
   "source": [
    "def simpsonC_3_8(funcion, v_inicial, v_final, n):\n",
    "    f = funcion; a = v_inicial; b = v_final\n",
    "    \n",
    "    n = 3*n\n",
    "    h = (b-a)/n\n",
    "    x0 = a; xn = b\n",
    "    \n",
    "    s1 = 0\n",
    "    for i in range(int(n/3)):\n",
    "        x3i_1 = a + (3*i+1)*h\n",
    "        s1 = s1 + f(x3i_1)\n",
    "        \n",
    "    s2 = 0\n",
    "    for i in range(int(n/3)):\n",
    "        x3i_2 = a + (3*i+2)*h\n",
    "        s2 = s2 + f(x3i_2)\n",
    "        \n",
    "    s3 = 0\n",
    "    for i in range(int(n/3)-1):\n",
    "        x3i_3 = a + (3*i+3)*h\n",
    "        s3 = s3 + f(x3i_3)\n",
    "    \n",
    "    I = ((3*h)/8) * (f(x0) + 3*s1 + 3*s2 + 2*s3 + f(xn))\n",
    "        \n",
    "    return I"
   ]
  },
  {
   "cell_type": "code",
   "execution_count": 177,
   "id": "2dd61e5c",
   "metadata": {},
   "outputs": [],
   "source": [
    "#otra forma de definir una funcion\n",
    "f = lambda x: (np.cos(2*x) + np.sin(x))**3\n",
    "a, b = -2*np.pi, 5*np.pi"
   ]
  },
  {
   "cell_type": "code",
   "execution_count": 175,
   "id": "b39da2c6",
   "metadata": {},
   "outputs": [
    {
     "data": {
      "text/plain": [
       "-12.360269948163474"
      ]
     },
     "execution_count": 175,
     "metadata": {},
     "output_type": "execute_result"
    }
   ],
   "source": [
    "trapecio(f, a, b, 1000)"
   ]
  },
  {
   "cell_type": "code",
   "execution_count": 170,
   "id": "6bccaa87",
   "metadata": {},
   "outputs": [
    {
     "data": {
      "text/plain": [
       "-109.95574287564274"
      ]
     },
     "execution_count": 170,
     "metadata": {},
     "output_type": "execute_result"
    }
   ],
   "source": [
    "simpson(f, a, b)"
   ]
  },
  {
   "cell_type": "code",
   "execution_count": 171,
   "id": "1161a71c",
   "metadata": {},
   "outputs": [
    {
     "data": {
      "text/plain": [
       "-12.360025208847757"
      ]
     },
     "execution_count": 171,
     "metadata": {},
     "output_type": "execute_result"
    }
   ],
   "source": [
    "simpsonC(f, a, b, 500) #es el que mejor veo"
   ]
  },
  {
   "cell_type": "code",
   "execution_count": 184,
   "id": "69582720",
   "metadata": {},
   "outputs": [
    {
     "data": {
      "text/plain": [
       "-12.359974113076962"
      ]
     },
     "execution_count": 184,
     "metadata": {},
     "output_type": "execute_result"
    }
   ],
   "source": [
    "simpsonC_3_8(f, a, b, 99)"
   ]
  },
  {
   "cell_type": "markdown",
   "id": "6525cfea",
   "metadata": {},
   "source": [
    "# Integral 3-D con simpson compuesto"
   ]
  },
  {
   "cell_type": "code",
   "execution_count": 80,
   "id": "d7944376",
   "metadata": {},
   "outputs": [],
   "source": [
    "def simpsonC_3d(funcion, x0, xf, y0, yf, z0, zf, n):\n",
    "    hx = (xf-x0)/n;  hy = (yf-y0)/n;  hz = (zf - z0)/n\n",
    "    \n",
    "    par = 0\n",
    "    for i in range(1, int(n/2)):\n",
    "        for j in range(1, int(n/2)):\n",
    "            for k in range(1,int(n/2)):\n",
    "                x2i = x0 + 2*i*hx\n",
    "                y2j = y0 + 2*j*hy\n",
    "                z2k = z0 + 2*k*hz\n",
    "                par = par + f(x2i, y2j, z2k)\n",
    "            \n",
    "    impar = 0\n",
    "    for i in range(1, int(n/2) + 1):\n",
    "        for j in range(1, int(n/2) + 1):\n",
    "            for k in range(1, int(n/2) + 1):\n",
    "                x2i_1 = x0 + (2*i - 1)*hx\n",
    "                y2j_1 = y0 + (2*j - 1)*hy\n",
    "                z2k_1 = z0 + (2*k - 1)*hz\n",
    "                impar = impar + f(x2i_1, y2j_1, z2k_1)\n",
    "            \n",
    "    I = (hx*hy*hz)*(f(x0, y0, z0) + 8*par + 64*impar + f(xf, yf, zf))*(1/9)\n",
    "    \n",
    "    return I"
   ]
  },
  {
   "cell_type": "markdown",
   "id": "206f6ee4",
   "metadata": {},
   "source": [
    "# 3-D simpson compuesta 3/8\n",
    "\n",
    "$$\n",
    "\\int\\int\\int f(x,y,z)dxdydy \\approx \n",
    "\\frac{3h}{8}\\left[ f(x_{0}, y_{0}, z_{0}) + 3\\sum _{i=0}^{\\frac{n}{3}-1}f(x_{3i+1}) + 3\\sum _{i=0}^{\\frac{n}{3}-1}f(x_{3i+2}) +2\\sum _{i=0}^{\\frac{n}{3}-2}f(x_{3i+3}) +f(x_{n}, y_{n}, z_{n}) \\right]\n",
    "$$"
   ]
  },
  {
   "cell_type": "code",
   "execution_count": 185,
   "id": "f0571517",
   "metadata": {},
   "outputs": [],
   "source": [
    "n = 100\n",
    "n = 3*n\n",
    "hx = (xf-x0)/n;  hy = (yf-y0)/n;  hz = (zf - z0)/n\n",
    "    \n",
    "s1 = 0\n",
    "for i in range(int(n/3)):\n",
    "    for j in range(int(n/3)):\n",
    "        for k in range(int(n/3)):\n",
    "            x3i_1 = x0 + (3*i+1)*hx\n",
    "            y3j_1 = y0 + (3*j+1)*hy\n",
    "            z3k_1 = z0 + (3*k+1)*hz\n",
    "            s1 = s1 + f(x3i_1, y3j_1, z3k_1)\n",
    "        \n",
    "s2 = 0\n",
    "for i in range(int(n/3)):\n",
    "    for j in range(int(n/3)):\n",
    "        for k in range(int(n/3)):\n",
    "            x3i_2 = x0 + (3*i+2)*hx\n",
    "            y3j_2 = y0 + (3*j+2)*hy\n",
    "            z3k_2 = z0 + (3*k+2)*hz\n",
    "            s2 = s2 + f(x3i_2, y3j_2, z3k_2)\n",
    "        \n",
    "s3 = 0\n",
    "for i in range(int(n/3)-1):\n",
    "    for j in range(int(n/3)-1):\n",
    "        for k in range(int(n/3)-1):\n",
    "            x3i_3 = x0 + (3*i+3)*hx\n",
    "            y3j_3 = y0 + (3*j+3)*hy\n",
    "            z3k_3 = z0 + (3*k+3)*hz\n",
    "            s3 = s3 + f(x3i_3, y3j_3, z3k_3)\n",
    "    \n",
    "I = ((27*hx*hy*hz)/8)*(f(x0, y0, z0) + 3*s1 + 3*s2 + 2*s3 + f(xf, yf, zf))"
   ]
  },
  {
   "cell_type": "code",
   "execution_count": 186,
   "id": "322718fa",
   "metadata": {},
   "outputs": [],
   "source": [
    "def f(x,y,z):\n",
    "    return np.cos(x*y)*z+1"
   ]
  },
  {
   "cell_type": "code",
   "execution_count": 187,
   "id": "471dd1ab",
   "metadata": {},
   "outputs": [],
   "source": [
    "x0, xf = 0, np.pi\n",
    "y0, yf = 0, 3*np.pi\n",
    "z0, zf = -10, 1"
   ]
  },
  {
   "cell_type": "code",
   "execution_count": 188,
   "id": "8d6cf0df",
   "metadata": {},
   "outputs": [
    {
     "data": {
      "text/plain": [
       "248.74672266582917"
      ]
     },
     "execution_count": 188,
     "metadata": {},
     "output_type": "execute_result"
    }
   ],
   "source": [
    "I"
   ]
  },
  {
   "cell_type": "code",
   "execution_count": 191,
   "id": "e4a55717",
   "metadata": {},
   "outputs": [
    {
     "data": {
      "text/plain": [
       "247.8738526078268"
      ]
     },
     "execution_count": 191,
     "metadata": {},
     "output_type": "execute_result"
    }
   ],
   "source": [
    "simpsonC_3d(f, 0, np.pi, 0, 3*np.pi, -10, 1, 300)"
   ]
  },
  {
   "cell_type": "code",
   "execution_count": 194,
   "id": "b654bcbd",
   "metadata": {},
   "outputs": [
    {
     "data": {
      "text/plain": [
       "373.82118393651484"
      ]
     },
     "execution_count": 194,
     "metadata": {},
     "output_type": "execute_result"
    }
   ],
   "source": [
    "33*np.pi**2 - (99/2)*(np.sin(3*np.pi**2))"
   ]
  },
  {
   "cell_type": "code",
   "execution_count": 19,
   "id": "ce1945c7",
   "metadata": {},
   "outputs": [
    {
     "name": "stdout",
     "output_type": "stream",
     "text": [
      "Using Hankel V1.1.0\n"
     ]
    }
   ],
   "source": [
    "import matplotlib.pyplot as plt\n",
    "import hankel\n",
    "from hankel import HankelTransform\n",
    "print(\"Using Hankel V{}\".format(hankel.__version__))"
   ]
  },
  {
   "cell_type": "code",
   "execution_count": 16,
   "id": "3c80ce53",
   "metadata": {},
   "outputs": [],
   "source": [
    "ht = HankelTransform(nu = 0, N = 120, h = 0.03)"
   ]
  },
  {
   "cell_type": "code",
   "execution_count": 18,
   "id": "fdc3e1f4",
   "metadata": {},
   "outputs": [
    {
     "data": {
      "text/plain": [
       "-1.0000000046484274"
      ]
     },
     "execution_count": 18,
     "metadata": {},
     "output_type": "execute_result"
    }
   ],
   "source": [
    "f = lambda x: x**2\n",
    "ht.integrate(f, ret_err = False)"
   ]
  },
  {
   "cell_type": "code",
   "execution_count": null,
   "id": "c42b812a",
   "metadata": {},
   "outputs": [],
   "source": []
  }
 ],
 "metadata": {
  "kernelspec": {
   "display_name": "Python 3",
   "language": "python",
   "name": "python3"
  },
  "language_info": {
   "codemirror_mode": {
    "name": "ipython",
    "version": 3
   },
   "file_extension": ".py",
   "mimetype": "text/x-python",
   "name": "python",
   "nbconvert_exporter": "python",
   "pygments_lexer": "ipython3",
   "version": "3.6.9"
  }
 },
 "nbformat": 4,
 "nbformat_minor": 5
}
